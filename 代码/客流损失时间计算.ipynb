{
 "cells": [
  {
   "cell_type": "code",
   "id": "initial_id",
   "metadata": {
    "collapsed": true,
    "ExecuteTime": {
     "end_time": "2024-05-12T10:37:01.162972Z",
     "start_time": "2024-05-12T10:36:56.276425Z"
    }
   },
   "source": [
    "from turtle import st\n",
    "import transbigdata as tbd\n",
    "import networkx as nx\n",
    "import pandas as pd\n",
    "import numpy as np\n",
    "from shapely.geometry import LineString\n",
    "import matplotlib.pyplot as plt\n",
    "from tqdm import tqdm\n",
    "import warnings\n",
    "import ast\n",
    "from multiprocessing import Pool\n",
    "from itertools import islice\n",
    "import math\n",
    "\n",
    "warnings.filterwarnings(\"ignore\")\n",
    "plt.rcParams['font.sans-serif'] = 'SimSun'  # 用来正常显示中文\n",
    "plt.rcParams['axes.unicode_minus'] = False  # 用来正常显示负号\n",
    "\n",
    "line = pd.read_pickle('line.pkl')\n",
    "stop = pd.read_pickle('stop.pkl')\n",
    "\n",
    "#调整站名和地铁线路名\n",
    "stop.loc[stop['line'] == '地铁4号线内圈', 'line'] = '地铁4号线'\n",
    "stop.loc[stop['line'] == '地铁4号线外圈', 'line'] = '地铁4号线'\n",
    "line.loc[line['line'] == '地铁4号线内圈', 'line'] = '地铁4号线'\n",
    "line.loc[line['line'] == '地铁4号线外圈', 'line'] = '地铁4号线'\n",
    "stop.loc[stop['line'] == '地铁2号线西延线', 'line'] = '地铁2号线'\n",
    "line.loc[line['line'] == '地铁2号线西延线', 'line'] = '地铁2号线'\n",
    "stop.loc[stop['linename'] == '地铁2号线西延线(徐泾东-蟠祥路)', 'linename'] = '地铁2号线(徐泾东-蟠祥路)'\n",
    "stop.loc[stop['linename'] == '地铁2号线西延线(蟠祥路-徐泾东)', 'linename'] = '地铁2号线(蟠祥路-徐泾东)'\n",
    "line.loc[line['linename'] == '地铁2号线西延线(徐泾东-蟠祥路)', 'linename'] = '地铁2号线(徐泾东-蟠祥路)'\n",
    "line.loc[line['linename'] == '地铁2号线西延线(蟠祥路-徐泾东)', 'linename'] = '地铁2号线(蟠祥路-徐泾东)'\n",
    "stop.loc[stop['line'] == '地铁13号线西延伸', 'line'] = '地铁13号线'\n",
    "line.loc[line['line'] == '地铁13号线西延伸', 'line'] = '地铁13号线'\n",
    "stop.loc[stop['linename'] == '地铁13号线西延伸(金运路-诸光路)', 'linename'] = '地铁13号线(金运路-诸光路)'\n",
    "stop.loc[stop['linename'] == '地铁13号线西延伸(诸光路-金运路)', 'linename'] = '地铁13号线(诸光路-金运路)'\n",
    "line.loc[line['linename'] == '地铁13号线西延伸(金运路-诸光路)', 'linename'] = '地铁13号线(金运路-诸光路)'\n",
    "line.loc[line['linename'] == '地铁13号线西延伸(诸光路-金运路)', 'linename'] = '地铁13号线(诸光路-金运路)'\n",
    "stop.loc[stop['line'] == '地铁17号线西延线', 'line'] = '地铁17号线'\n",
    "line.loc[line['line'] == '地铁17号线西延线', 'line'] = '地铁17号线'\n",
    "stop.loc[stop['linename'] == '地铁17号线西延线(西岑-东方绿舟)', 'linename'] = '地铁17号线(西岑-东方绿舟)'\n",
    "stop.loc[stop['linename'] == '地铁17号线西延线(东方绿舟-西岑)', 'linename'] = '地铁17号线(东方绿舟-西岑)'\n",
    "line.loc[line['linename'] == '地铁17号线西延线(西岑-东方绿舟)', 'linename'] = '地铁17号线(西岑-东方绿舟)'\n",
    "line.loc[line['linename'] == '地铁17号线西延线(东方绿舟-西岑)', 'linename'] = '地铁17号线(东方绿舟-西岑)'\n",
    "stop.loc[stop['line'] == '地铁18号线二期', 'line'] = '地铁18号线'\n",
    "line.loc[line['line'] == '地铁18号线二期', 'line'] = '地铁18号线'\n",
    "stop.loc[stop['linename'] == '地铁18号线二期(大康路-长江南路)', 'linename'] = '地铁18号线(大康路-长江南路)'\n",
    "stop.loc[stop['linename'] == '地铁18号线二期(长江南路-大康路)', 'linename'] = '地铁18号线(长江南路-大康路)'\n",
    "line.loc[line['linename'] == '地铁18号线二期(大康路-长江南路)', 'linename'] = '地铁18号线(大康路-长江南路)'\n",
    "line.loc[line['linename'] == '地铁18号线二期(长江南路-大康路)', 'linename'] = '地铁18号线(长江南路-大康路)'\n",
    "\n",
    "\n",
    "#构建地铁网络拓扑图\n",
    "def split_subwayline(line, stop):\n",
    "    def getline(r2, line_geometry):\n",
    "        ls = []\n",
    "        if r2['o_project'] <= r2['d_project']:\n",
    "            tmp1 = np.linspace(r2['o_project'], r2['d_project'], 10)\n",
    "        if r2['o_project'] > r2['d_project']:\n",
    "            tmp1 = np.linspace(  # pragma: no cover\n",
    "                r2['o_project'] - line_geometry.length, r2['d_project'], 10)\n",
    "            tmp1[tmp1 < 0] = tmp1[tmp1 < 0] + line_geometry.length  # pragma: no cover\n",
    "        for j in tmp1:\n",
    "            ls.append(line_geometry.interpolate(j))\n",
    "        return LineString(ls)\n",
    "\n",
    "    lss = []\n",
    "    for k in range(len(line)):\n",
    "        r = line.iloc[k]\n",
    "        line_geometry = r['geometry']\n",
    "        tmp = stop[stop['linename'] == r['linename']].copy()\n",
    "        for i in tmp.columns:\n",
    "            tmp[i + '1'] = tmp[i].shift(-1)\n",
    "        tmp = tmp.iloc[:-1]\n",
    "        tmp = tmp[['stationnames', 'stationnames1',\n",
    "                   'geometry', 'geometry1', 'linename', 'line']]\n",
    "        tmp['o_project'] = tmp['geometry'].apply(\n",
    "            r['geometry'].project)\n",
    "        tmp['d_project'] = tmp['geometry1'].apply(\n",
    "            r['geometry'].project)\n",
    "        tmp['geometry'] = tmp.apply(\n",
    "            lambda r2: getline(r2, line_geometry), axis=1)\n",
    "        lss.append(tmp)\n",
    "    metro_line_splited = pd.concat(lss).drop('geometry1', axis=1)\n",
    "    metro_line_splited.crs = 'epsg:4326'\n",
    "    metro_line_splited['length'] = metro_line_splited.to_crs(epsg=3857).length\n",
    "    metro_line_splited = metro_line_splited.drop(\n",
    "        ['o_project', 'd_project'], axis=1)\n",
    "    return metro_line_splited\n",
    "\n",
    "\n",
    "def metro_network(line, stop, transfertime=5, nxgraph=True):\n",
    "    # Obtain edge1: Network edge for line section.\n",
    "    linestop = stop.copy()\n",
    "    if ('speed' not in line.columns) | ('stoptime' not in line.columns):\n",
    "        raise ValueError(  # pragma: no cover\n",
    "            'Lines should have `line` column to store line name,'\n",
    "            '`speed` column to store metro speed and'\n",
    "            '`stoptime` column to store stop time at each station'\n",
    "        )\n",
    "    for i in linestop.columns:\n",
    "        linestop[i + '1'] = linestop[i].shift(-1)\n",
    "    linestop = linestop[linestop['linename'] == linestop['linename1']].copy()\n",
    "    linestop = linestop.rename(\n",
    "        columns={'stationnames': 'ostop', 'stationnames1': 'dstop'})\n",
    "    linestop['ostation'] = linestop['line'] + linestop['ostop']\n",
    "    linestop['dstation'] = linestop['line'] + linestop['dstop']\n",
    "    edge1 = linestop[['ostation', 'dstation']].copy()\n",
    "\n",
    "    # calculate travel time for edge1\n",
    "    # calculate distance\n",
    "    metrolinesplit = split_subwayline(line, stop)\n",
    "    metrolinesplit['ostation'] = metrolinesplit['line'] + \\\n",
    "                                 metrolinesplit['stationnames']\n",
    "    metrolinesplit['dstation'] = metrolinesplit['line'] + \\\n",
    "                                 metrolinesplit['stationnames1']\n",
    "    metrolinesplit = metrolinesplit[['ostation', 'dstation', 'line', 'length']]\n",
    "    edge1 = pd.merge(edge1, metrolinesplit, how='left')\n",
    "    edge1 = pd.merge(edge1, line[['line', 'speed', 'stoptime']])\n",
    "\n",
    "    # calculate duration\n",
    "    edge1['duration'] = 60 * (edge1['length'] / 1000) / \\\n",
    "                        edge1['speed'] + edge1['stoptime']\n",
    "    edge1 = edge1[['ostation', 'dstation', 'duration']].drop_duplicates(\n",
    "        subset=['ostation', 'dstation'])\n",
    "\n",
    "    # Obtain edge2: Network edge for transfering.\n",
    "    linestop = stop.copy()\n",
    "    linestop['station'] = linestop['line'] + linestop['stationnames']\n",
    "    tmp = linestop.groupby(['stationnames'])[\n",
    "        'linename'].count().rename('count').reset_index()\n",
    "    tmp = pd.merge(linestop, tmp[tmp['count'] > 2]\n",
    "    ['stationnames'], on='stationnames')\n",
    "    tmp = tmp[['stationnames', 'line', 'station']].drop_duplicates()\n",
    "    tmp = pd.merge(tmp, tmp, on='stationnames')\n",
    "\n",
    "    edge2 = tmp[tmp['line_x'] != tmp['line_y']][['station_x', 'station_y']]\n",
    "    # All transfer time are set as the same, export `edge2` for further degign\n",
    "    edge2['duration'] = transfertime\n",
    "    edge2.columns = edge1.columns\n",
    "    edge = pd.concat([edge1, edge2])\n",
    "    node = list(edge['ostation'].drop_duplicates())\n",
    "    if nxgraph:\n",
    "        import networkx as nx\n",
    "        G = nx.Graph()\n",
    "        G.add_nodes_from(node)\n",
    "        G.add_weighted_edges_from(edge.values)\n",
    "        return G\n",
    "    else:\n",
    "        return edge1, edge2, node  # pragma: no cover\n",
    "\n",
    "\n",
    "line['speed'] = 37.3  #地铁运行速度 km/h\n",
    "line['stoptime'] = 0.3  #停站时间 min\n",
    "\n",
    "G = metro_network(line, stop, transfertime=5, nxgraph=True)"
   ],
   "outputs": [],
   "execution_count": 1
  },
  {
   "metadata": {
    "ExecuteTime": {
     "end_time": "2024-05-12T10:37:10.838471Z",
     "start_time": "2024-05-12T10:37:09.801051Z"
    }
   },
   "cell_type": "code",
   "source": "a = split_subwayline(line, stop)",
   "id": "4f7deb8265ab9107",
   "outputs": [],
   "execution_count": 2
  },
  {
   "metadata": {
    "ExecuteTime": {
     "end_time": "2024-05-12T10:50:04.093110Z",
     "start_time": "2024-05-12T10:50:04.087894Z"
    }
   },
   "cell_type": "code",
   "source": "stop['ostation'] = stop['line'] + stop['stationnames']",
   "id": "f636a40b6f3d68c",
   "outputs": [],
   "execution_count": 5
  },
  {
   "metadata": {
    "ExecuteTime": {
     "end_time": "2024-05-12T10:50:56.564437Z",
     "start_time": "2024-05-12T10:50:56.532605Z"
    }
   },
   "cell_type": "code",
   "source": "stop.to_csv('stop.csv', index=False, encoding='gbk')",
   "id": "ec94850a0fe43693",
   "outputs": [],
   "execution_count": 8
  },
  {
   "metadata": {
    "ExecuteTime": {
     "end_time": "2024-05-17T09:00:46.121267Z",
     "start_time": "2024-05-17T09:00:45.799510Z"
    }
   },
   "cell_type": "code",
   "source": "",
   "id": "277e82a498a57a88",
   "outputs": [
    {
     "ename": "NameError",
     "evalue": "name 'line' is not defined",
     "output_type": "error",
     "traceback": [
      "\u001B[1;31m---------------------------------------------------------------------------\u001B[0m",
      "\u001B[1;31mNameError\u001B[0m                                 Traceback (most recent call last)",
      "Cell \u001B[1;32mIn[1], line 1\u001B[0m\n\u001B[1;32m----> 1\u001B[0m line \u001B[38;5;241m=\u001B[39m \u001B[43mline\u001B[49m[line\u001B[38;5;241m.\u001B[39mindex\u001B[38;5;241m%\u001B[39m\u001B[38;5;241m2\u001B[39m\u001B[38;5;241m==\u001B[39m\u001B[38;5;241m0\u001B[39m]\n",
      "\u001B[1;31mNameError\u001B[0m: name 'line' is not defined"
     ]
    }
   ],
   "execution_count": 1
  },
  {
   "metadata": {
    "ExecuteTime": {
     "end_time": "2024-05-07T14:52:38.691498Z",
     "start_time": "2024-05-07T14:52:38.681003Z"
    }
   },
   "cell_type": "code",
   "source": [
    "# K短路算法\n",
    "def get_k_shortest_paths(G, lineostation, linedstation, k):\n",
    "    try:\n",
    "        paths = islice(nx.shortest_simple_paths(G, lineostation, linedstation, weight='weight'), k)\n",
    "        return list(paths)\n",
    "    except nx.NetworkXNoPath:\n",
    "        # 如果没有路径，返回一个空列表或者特定的标记\n",
    "        return []\n",
    "    \n",
    "def get_shortest_paths(G, ostation,dstation):\n",
    "    try:\n",
    "        # 尝试获取k条最短路径\n",
    "        path = nx.shortest_path(G, ostation, dstation)\n",
    "        # 确保返回的路径数量不超过k\n",
    "        return path\n",
    "    except nx.NetworkXNoPath:\n",
    "        # 如果没有路径，返回一个空列表或者特定的标记\n",
    "        return []\n",
    "    except nx.NodeNotFound:\n",
    "        # 如果OD站不在图内，返回空列表\n",
    "        return []\n",
    "#计算路径的在车时间\n",
    "def get_path_traveltime(G, path):\n",
    "    traveltime = 0\n",
    "    for i in range(len(path) - 1):\n",
    "        traveltime += G.get_edge_data(path[i], path[i + 1])['weight']\n",
    "    return traveltime\n",
    "\n",
    "# 计算换乘次数 \n",
    "def get_transfer_count(path):\n",
    "    transfer_count = 0\n",
    "    for i in range(1, len(path)):\n",
    "        # 如果当前站点和前一个站点的线路不同，则换乘次数加一\n",
    "        if path[i].split('线')[0] != path[i-1].split('线')[0]:\n",
    "            transfer_count += 1\n",
    "    return transfer_count\n",
    "\n",
    "def verify_path(paths):\n",
    "    dropindex=[]\n",
    "    for j in range(len(paths)):        \n",
    "        path = paths[j]\n",
    "#计算换乘次数和去除无效路径\n",
    "        used_lines = set()\n",
    "        used_lines.add(path[0].split('线')[0])\n",
    "        repeated_lines = set()\n",
    "        for s in range(len(path)-1):\n",
    "            if path[s].split('线')[0] != path[s+1].split('线')[0] :#判断是否换乘\n",
    "                if path[s+1].split('线')[0] in used_lines:# 检查线路是否已经使用过\n",
    "                    repeated_lines.add(path[s+1].split('线')[0])# 如果已使用过，记录为重复线路\n",
    "                else:\n",
    "                    used_lines.add(path[s+1].split('线')[0])# 如果是第一次使用，添加到已使用的线路集合中\n",
    "        transfercount = len(used_lines)-1\n",
    "        if len(repeated_lines) != 0 or transfercount >=5: #删除有重复线路的路径\\换乘次数大于5的路径\n",
    "            dropindex.append(j)\n",
    "    paths = [element for index, element in enumerate(paths) if index not in dropindex]\n",
    "    return paths\n",
    "#更新客流表\n",
    "def update_flow(ls,passenger_flow):\n",
    "    ls = pd.concat(ls)\n",
    "    flow = ls.groupby(['o','d'])['volume'].sum().reset_index()\n",
    "    flow = pd.merge(passenger_flow,flow ,on=['o','d'],suffixes=('_df1', '_df2'),how='left')\n",
    "    flow['volume_df2'].fillna(0,inplace=True)\n",
    "    flow['volume']=flow['volume_df2']+flow['volume_df1']\n",
    "    flow.drop(columns=['volume_df1','volume_df2'],inplace=True)\n",
    "    return flow"
   ],
   "id": "14a620ede1307d27",
   "outputs": [],
   "execution_count": 2
  },
  {
   "metadata": {
    "ExecuteTime": {
     "end_time": "2024-05-07T14:53:08.816937Z",
     "start_time": "2024-05-07T14:53:07.784935Z"
    }
   },
   "cell_type": "code",
   "source": [
    "#读取数据{OD表（'ostation','dstation','volume')，客流表('o','d','volume')}\n",
    "#读取OD\n",
    "OD = pd.read_csv('OD_onepath.csv')\n",
    "\n",
    "#读取客流表\n",
    "flow = pd.read_csv('flow.csv')\n",
    "\n",
    "stations = pd.read_excel('stations.xlsx')\n",
    "stations = stations['station']\n",
    "stations_loss = pd.read_excel('stations.xlsx')\n",
    "stations_loss['losstime'] = 0\n",
    "#需要的参数\n",
    "#拥挤度\n",
    "alpha=1.1\n",
    "beta=1.5\n",
    "#出行阻抗\n",
    "metrogap=3 #地铁发车间隔\n",
    "capacity=(60/metrogap)*310*6#一小时内区间满载定员\n",
    "transfertime=5 #换乘时间\n",
    "intime = 5 #进站时间\n",
    "outtime = 5 #出站时间\n",
    "#logit模型\n",
    "theta = 2.18\n",
    "sumfee=0#乘客广义出行费用之和\n",
    "#损失时间参数\n",
    "pausedtime = 30"
   ],
   "id": "ee1dac06655ceeaf",
   "outputs": [],
   "execution_count": 4
  },
  {
   "metadata": {
    "ExecuteTime": {
     "end_time": "2024-05-07T14:54:03.006567Z",
     "start_time": "2024-05-07T14:54:02.999209Z"
    }
   },
   "cell_type": "code",
   "source": [
    "#识别包含该区间的OD\n",
    "def recognaze_section(OD,ostation,dstation):\n",
    "    index=set()\n",
    "    r=OD['paths']\n",
    "    for i in range(len(r)):\n",
    "        if ostation in r[i] and dstation in r[i]:\n",
    "            index.add(i)\n",
    "    index=list(index)\n",
    "    return OD.iloc[index].reset_index(drop=True)\n",
    "\n",
    "#识别包含车站的OD\n",
    "def recognaze_station(OD,station):\n",
    "    index=set()\n",
    "    r=OD['paths']\n",
    "    for i in range(len(r)):\n",
    "        if station in r[i]:\n",
    "            index.add(i) \n",
    "    index=list(index)\n",
    "    return OD.iloc[index].reset_index(drop=True)\n",
    "\n",
    "def get_congestion(path,passenger_flow):    \n",
    "    tmp = pd.DataFrame(path,columns=['o'])\n",
    "    tmp['d'] = tmp['o'].shift(-1)\n",
    "    tmp = tmp.iloc[:-1]\n",
    "    flow = pd.merge(tmp,passenger_flow,on=['o','d'],how='left')['volume'].sum()\n",
    "    rate = flow/(capacity*len(path))\n",
    "    if rate <= 0.7:\n",
    "        congestion = 0\n",
    "    elif rate <= 1:\n",
    "        congestion = alpha*(rate-0.7)\n",
    "    else:\n",
    "        congestion = alpha*(1-0.7)+beta*(rate-1)\n",
    "    return congestion\n",
    "def get_cost(path,congestion):\n",
    "    transfercount = get_transfer_count(path)\n",
    "    f1 = get_path_traveltime(G,path) - transfercount*transfertime #在车时间\n",
    "    f2 = transfercount*transfertime #换乘时间\n",
    "    f3 = metrogap*0.5+intime+outtime #进出站时间加候车时间\n",
    "    fee = f1*(1+congestion) + f2 + f3\n",
    "    return fee"
   ],
   "id": "e06679de960b5c1",
   "outputs": [],
   "execution_count": 5
  },
  {
   "metadata": {
    "ExecuteTime": {
     "end_time": "2024-05-07T14:54:10.537115Z",
     "start_time": "2024-05-07T14:54:05.882012Z"
    }
   },
   "cell_type": "code",
   "source": "OD['paths'] = OD['paths'].apply(ast.literal_eval)",
   "id": "51c80588f877ce26",
   "outputs": [],
   "execution_count": 6
  },
  {
   "metadata": {
    "ExecuteTime": {
     "end_time": "2024-05-07T15:31:37.489038Z",
     "start_time": "2024-05-07T15:31:37.479021Z"
    }
   },
   "cell_type": "code",
   "source": "",
   "id": "900202a7724b11a4",
   "outputs": [
    {
     "data": {
      "text/plain": [
       "              o            d  volume\n",
       "0       地铁1号线莘庄     地铁1号线外环路  2285.0\n",
       "1      地铁1号线外环路     地铁1号线莲花路  2157.0\n",
       "2      地铁1号线莲花路    地铁1号线锦江乐园  2541.0\n",
       "3     地铁1号线锦江乐园    地铁1号线上海南站  2488.0\n",
       "4     地铁1号线上海南站     地铁1号线漕宝路  2612.0\n",
       "...         ...          ...     ...\n",
       "1295     磁浮线龙阳路     地铁7号线龙阳路   736.0\n",
       "1296     磁浮线龙阳路    地铁16号线龙阳路  1977.0\n",
       "1297     磁浮线龙阳路    地铁18号线龙阳路   336.0\n",
       "1298  磁浮线浦东国际机场  地铁2号线浦东国际机场     0.0\n",
       "1299    浦江线沈杜公路    地铁8号线沈杜公路     0.0\n",
       "\n",
       "[1300 rows x 3 columns]"
      ],
      "text/html": [
       "<div>\n",
       "<style scoped>\n",
       "    .dataframe tbody tr th:only-of-type {\n",
       "        vertical-align: middle;\n",
       "    }\n",
       "\n",
       "    .dataframe tbody tr th {\n",
       "        vertical-align: top;\n",
       "    }\n",
       "\n",
       "    .dataframe thead th {\n",
       "        text-align: right;\n",
       "    }\n",
       "</style>\n",
       "<table border=\"1\" class=\"dataframe\">\n",
       "  <thead>\n",
       "    <tr style=\"text-align: right;\">\n",
       "      <th></th>\n",
       "      <th>o</th>\n",
       "      <th>d</th>\n",
       "      <th>volume</th>\n",
       "    </tr>\n",
       "  </thead>\n",
       "  <tbody>\n",
       "    <tr>\n",
       "      <th>0</th>\n",
       "      <td>地铁1号线莘庄</td>\n",
       "      <td>地铁1号线外环路</td>\n",
       "      <td>2285.0</td>\n",
       "    </tr>\n",
       "    <tr>\n",
       "      <th>1</th>\n",
       "      <td>地铁1号线外环路</td>\n",
       "      <td>地铁1号线莲花路</td>\n",
       "      <td>2157.0</td>\n",
       "    </tr>\n",
       "    <tr>\n",
       "      <th>2</th>\n",
       "      <td>地铁1号线莲花路</td>\n",
       "      <td>地铁1号线锦江乐园</td>\n",
       "      <td>2541.0</td>\n",
       "    </tr>\n",
       "    <tr>\n",
       "      <th>3</th>\n",
       "      <td>地铁1号线锦江乐园</td>\n",
       "      <td>地铁1号线上海南站</td>\n",
       "      <td>2488.0</td>\n",
       "    </tr>\n",
       "    <tr>\n",
       "      <th>4</th>\n",
       "      <td>地铁1号线上海南站</td>\n",
       "      <td>地铁1号线漕宝路</td>\n",
       "      <td>2612.0</td>\n",
       "    </tr>\n",
       "    <tr>\n",
       "      <th>...</th>\n",
       "      <td>...</td>\n",
       "      <td>...</td>\n",
       "      <td>...</td>\n",
       "    </tr>\n",
       "    <tr>\n",
       "      <th>1295</th>\n",
       "      <td>磁浮线龙阳路</td>\n",
       "      <td>地铁7号线龙阳路</td>\n",
       "      <td>736.0</td>\n",
       "    </tr>\n",
       "    <tr>\n",
       "      <th>1296</th>\n",
       "      <td>磁浮线龙阳路</td>\n",
       "      <td>地铁16号线龙阳路</td>\n",
       "      <td>1977.0</td>\n",
       "    </tr>\n",
       "    <tr>\n",
       "      <th>1297</th>\n",
       "      <td>磁浮线龙阳路</td>\n",
       "      <td>地铁18号线龙阳路</td>\n",
       "      <td>336.0</td>\n",
       "    </tr>\n",
       "    <tr>\n",
       "      <th>1298</th>\n",
       "      <td>磁浮线浦东国际机场</td>\n",
       "      <td>地铁2号线浦东国际机场</td>\n",
       "      <td>0.0</td>\n",
       "    </tr>\n",
       "    <tr>\n",
       "      <th>1299</th>\n",
       "      <td>浦江线沈杜公路</td>\n",
       "      <td>地铁8号线沈杜公路</td>\n",
       "      <td>0.0</td>\n",
       "    </tr>\n",
       "  </tbody>\n",
       "</table>\n",
       "<p>1300 rows × 3 columns</p>\n",
       "</div>"
      ]
     },
     "execution_count": 15,
     "metadata": {},
     "output_type": "execute_result"
    }
   ],
   "execution_count": 15
  },
  {
   "metadata": {
    "ExecuteTime": {
     "end_time": "2024-05-07T14:12:45.702918Z",
     "start_time": "2024-05-07T14:06:35.705751Z"
    }
   },
   "cell_type": "code",
   "source": [
    "#计算车站的客流损失时间\n",
    "tqdm.pandas()\n",
    "for i in tqdm(range(len(stations))):\n",
    "    losstime = 0\n",
    "    OD_affected = recognaze_station(OD, stations[i])\n",
    "    if OD_affected.empty:\n",
    "        continue\n",
    "    G_station = G.copy()\n",
    "    G_station.remove_node(stations[i])\n",
    "    OD_affected['path'] = OD_affected.apply(lambda x: get_shortest_paths(G_station, x['ostation'], x['dstation']),axis=1)\n",
    "    OD_affected['path'] = OD_affected.apply(lambda x :verify_path(x['path']), axis=1)\n",
    "    nopath = OD_affected['path'].apply(lambda x: isinstance(x, list) and not x)\n",
    "    num_nopath =nopath.sum()\n",
    "    losstime = OD_affected[nopath]['volume'].sum() * pausedtime\n",
    "    OD_alter = OD_affected[~nopath].reset_index(drop=True)\n",
    "    OD_alter['paths'] = OD_alter['paths'].apply(ast.literal_eval)\n",
    "    altertime = 0\n",
    "    for j in range(len(OD_alter)):\n",
    "        r = OD_alter.iloc[j]\n",
    "        path_old = r['paths']\n",
    "        path_alter = r['path']\n",
    "        congestion_old = get_congestion(path_old,flow)\n",
    "        congestion_alter = get_congestion(path_alter,flow)\n",
    "    #计算出行阻抗\n",
    "        cost_old = get_cost(path_old,congestion_old)\n",
    "        cost_alter = get_cost(path_alter,congestion_alter)\n",
    "        altertime =altertime + (cost_alter-cost_old)*r['volume']\n",
    "    losstime = losstime + altertime\n",
    "    stations_loss['losstime'][i] = losstime"
   ],
   "id": "fd355d29552e8e87",
   "outputs": [
    {
     "name": "stderr",
     "output_type": "stream",
     "text": [
      "100%|██████████| 530/530 [06:09<00:00,  1.43it/s]\n"
     ]
    }
   ],
   "execution_count": 21
  },
  {
   "metadata": {
    "ExecuteTime": {
     "end_time": "2024-05-07T14:12:48.471739Z",
     "start_time": "2024-05-07T14:12:48.463382Z"
    }
   },
   "cell_type": "code",
   "source": "stations_loss",
   "id": "faccc10669acd0de",
   "outputs": [
    {
     "data": {
      "text/plain": [
       "       station   losstime\n",
       "0      地铁1号线莘庄  1069950.0\n",
       "1     地铁1号线外环路  1125630.0\n",
       "2     地铁1号线莲花路  1375230.0\n",
       "3    地铁1号线锦江乐园  1467540.0\n",
       "4    地铁1号线上海南站  1773180.0\n",
       "..         ...        ...\n",
       "525    浦江线三鲁公路     5850.0\n",
       "526     浦江线闵瑞路     5850.0\n",
       "527     浦江线浦航路     5850.0\n",
       "528    浦江线东城一路     5850.0\n",
       "529     浦江线汇臻路     5850.0\n",
       "\n",
       "[530 rows x 2 columns]"
      ],
      "text/html": [
       "<div>\n",
       "<style scoped>\n",
       "    .dataframe tbody tr th:only-of-type {\n",
       "        vertical-align: middle;\n",
       "    }\n",
       "\n",
       "    .dataframe tbody tr th {\n",
       "        vertical-align: top;\n",
       "    }\n",
       "\n",
       "    .dataframe thead th {\n",
       "        text-align: right;\n",
       "    }\n",
       "</style>\n",
       "<table border=\"1\" class=\"dataframe\">\n",
       "  <thead>\n",
       "    <tr style=\"text-align: right;\">\n",
       "      <th></th>\n",
       "      <th>station</th>\n",
       "      <th>losstime</th>\n",
       "    </tr>\n",
       "  </thead>\n",
       "  <tbody>\n",
       "    <tr>\n",
       "      <th>0</th>\n",
       "      <td>地铁1号线莘庄</td>\n",
       "      <td>1069950.0</td>\n",
       "    </tr>\n",
       "    <tr>\n",
       "      <th>1</th>\n",
       "      <td>地铁1号线外环路</td>\n",
       "      <td>1125630.0</td>\n",
       "    </tr>\n",
       "    <tr>\n",
       "      <th>2</th>\n",
       "      <td>地铁1号线莲花路</td>\n",
       "      <td>1375230.0</td>\n",
       "    </tr>\n",
       "    <tr>\n",
       "      <th>3</th>\n",
       "      <td>地铁1号线锦江乐园</td>\n",
       "      <td>1467540.0</td>\n",
       "    </tr>\n",
       "    <tr>\n",
       "      <th>4</th>\n",
       "      <td>地铁1号线上海南站</td>\n",
       "      <td>1773180.0</td>\n",
       "    </tr>\n",
       "    <tr>\n",
       "      <th>...</th>\n",
       "      <td>...</td>\n",
       "      <td>...</td>\n",
       "    </tr>\n",
       "    <tr>\n",
       "      <th>525</th>\n",
       "      <td>浦江线三鲁公路</td>\n",
       "      <td>5850.0</td>\n",
       "    </tr>\n",
       "    <tr>\n",
       "      <th>526</th>\n",
       "      <td>浦江线闵瑞路</td>\n",
       "      <td>5850.0</td>\n",
       "    </tr>\n",
       "    <tr>\n",
       "      <th>527</th>\n",
       "      <td>浦江线浦航路</td>\n",
       "      <td>5850.0</td>\n",
       "    </tr>\n",
       "    <tr>\n",
       "      <th>528</th>\n",
       "      <td>浦江线东城一路</td>\n",
       "      <td>5850.0</td>\n",
       "    </tr>\n",
       "    <tr>\n",
       "      <th>529</th>\n",
       "      <td>浦江线汇臻路</td>\n",
       "      <td>5850.0</td>\n",
       "    </tr>\n",
       "  </tbody>\n",
       "</table>\n",
       "<p>530 rows × 2 columns</p>\n",
       "</div>"
      ]
     },
     "execution_count": 22,
     "metadata": {},
     "output_type": "execute_result"
    }
   ],
   "execution_count": 22
  },
  {
   "metadata": {
    "ExecuteTime": {
     "end_time": "2024-05-07T14:16:18.266546Z",
     "start_time": "2024-05-07T14:16:18.260723Z"
    }
   },
   "cell_type": "code",
   "source": "stations_loss.to_csv('stations_losstime.csv',index=False)",
   "id": "ce77d9d26d76821",
   "outputs": [],
   "execution_count": 23
  },
  {
   "metadata": {
    "ExecuteTime": {
     "end_time": "2024-05-07T14:16:43.725914Z",
     "start_time": "2024-05-07T14:16:43.715636Z"
    }
   },
   "cell_type": "code",
   "source": "stations_loss.to_csv('站点客流损失时间.csv',index=False,encoding='gbk')",
   "id": "de1d9fcd902b1980",
   "outputs": [],
   "execution_count": 25
  },
  {
   "metadata": {
    "ExecuteTime": {
     "end_time": "2024-05-07T15:29:26.650472Z",
     "start_time": "2024-05-07T15:29:25.838127Z"
    }
   },
   "cell_type": "code",
   "source": "",
   "id": "955e1ff90a3dfacc",
   "outputs": [
    {
     "ename": "NameError",
     "evalue": "name 'flow' is not defined",
     "output_type": "error",
     "traceback": [
      "\u001B[1;31m---------------------------------------------------------------------------\u001B[0m",
      "\u001B[1;31mNameError\u001B[0m                                 Traceback (most recent call last)",
      "Cell \u001B[1;32mIn[14], line 1\u001B[0m\n\u001B[1;32m----> 1\u001B[0m \u001B[43mflow\u001B[49m\n",
      "\u001B[1;31mNameError\u001B[0m: name 'flow' is not defined"
     ]
    }
   ],
   "execution_count": 14
  },
  {
   "metadata": {
    "ExecuteTime": {
     "end_time": "2024-05-07T13:25:36.731614Z",
     "start_time": "2024-05-07T13:25:36.724957Z"
    }
   },
   "cell_type": "code",
   "source": "stations_loss.to_csv('stations_loss2.csv',index=False)",
   "id": "fb72074ec204eddd",
   "outputs": [],
   "execution_count": 64
  },
  {
   "metadata": {
    "ExecuteTime": {
     "end_time": "2024-05-07T14:54:30.068197Z",
     "start_time": "2024-05-07T14:54:29.991797Z"
    }
   },
   "cell_type": "code",
   "source": [
    "sections = pd.read_excel('sections.xlsx')\n",
    "sections_loss = pd.read_excel('sections.xlsx')\n",
    "sections_loss['losstime'] = 0"
   ],
   "id": "28759318ad094f77",
   "outputs": [],
   "execution_count": 7
  },
  {
   "metadata": {
    "ExecuteTime": {
     "end_time": "2024-05-07T15:21:32.701581Z",
     "start_time": "2024-05-07T15:09:09.821930Z"
    }
   },
   "cell_type": "code",
   "source": [
    "#计算区间客流损失时间\n",
    "for i in tqdm(range(len(sections))):\n",
    "    losstime = 0\n",
    "    h = sections.iloc[i]\n",
    "    o = h['o']\n",
    "    d = h['d']\n",
    "    OD_affected = recognaze_section(OD, o , d)\n",
    "    if OD_affected.empty:\n",
    "        continue\n",
    "    G_station = G.copy()\n",
    "    G_station.remove_edge(o,d)\n",
    "    OD_affected['path'] = OD_affected.apply(lambda x: get_shortest_paths(G_station, x['ostation'], x['dstation']),axis=1)\n",
    "    OD_affected['path'] = OD_affected.apply(lambda x :verify_path(x['path']), axis=1)\n",
    "    nopath = OD_affected['path'].apply(lambda x: isinstance(x, list) and not x)\n",
    "    num_nopath =nopath.sum()\n",
    "    losstime = OD_affected[nopath]['volume'].sum() * pausedtime\n",
    "    OD_alter = OD_affected[~nopath].reset_index(drop=True)\n",
    "    altertime = 0\n",
    "    for j in range(len(OD_alter)):\n",
    "        r = OD_alter.iloc[j]\n",
    "        path_old = r['paths']\n",
    "        path_alter = r['path']\n",
    "        congestion_old = get_congestion(path_old,flow)\n",
    "        congestion_alter = get_congestion(path_alter,flow)\n",
    "    #计算出行阻抗\n",
    "        cost_old = get_cost(path_old,congestion_old)\n",
    "        cost_alter = get_cost(path_alter,congestion_alter)\n",
    "        altertime =altertime + (cost_alter-cost_old)*r['volume']\n",
    "    losstime = losstime + altertime\n",
    "    sections_loss['losstime'][i] = losstime"
   ],
   "id": "bf6b8aa6a307b956",
   "outputs": [
    {
     "name": "stderr",
     "output_type": "stream",
     "text": [
      "100%|██████████| 1020/1020 [12:22<00:00,  1.37it/s]\n"
     ]
    }
   ],
   "execution_count": 10
  },
  {
   "metadata": {
    "ExecuteTime": {
     "end_time": "2024-05-07T15:22:57.451071Z",
     "start_time": "2024-05-07T15:22:57.440276Z"
    }
   },
   "cell_type": "code",
   "source": "sections_loss.to_csv('sections_losstime.csv',index=False)",
   "id": "c4518a4b0e60c2e5",
   "outputs": [],
   "execution_count": 12
  },
  {
   "metadata": {
    "ExecuteTime": {
     "end_time": "2024-05-07T15:23:41.946145Z",
     "start_time": "2024-05-07T15:23:41.934633Z"
    }
   },
   "cell_type": "code",
   "source": "sections_loss.to_csv('区间客流损失时间.csv',index=False,encoding='gbk')",
   "id": "561933da315ee322",
   "outputs": [],
   "execution_count": 13
  }
 ],
 "metadata": {
  "kernelspec": {
   "display_name": "Python 3",
   "language": "python",
   "name": "python3"
  },
  "language_info": {
   "codemirror_mode": {
    "name": "ipython",
    "version": 2
   },
   "file_extension": ".py",
   "mimetype": "text/x-python",
   "name": "python",
   "nbconvert_exporter": "python",
   "pygments_lexer": "ipython2",
   "version": "2.7.6"
  }
 },
 "nbformat": 4,
 "nbformat_minor": 5
}
